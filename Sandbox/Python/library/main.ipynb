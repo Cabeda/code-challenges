{
 "cells": [
  {
   "cell_type": "code",
   "execution_count": 8,
   "metadata": {},
   "outputs": [
    {
     "data": {
      "text/plain": [
       "b'<?xml version=\"1.0\" encoding=\"ISO-8859-1\"?>\\n<rss version=\"2.0\"><channel><title>.GW = brandon  em Bibliotecas Municipais do Porto</title><link>http://bibliotecas.cm-porto.pt/</link><description>Bibliotecas Municipais do Porto</description><pubDate>S\\xe1b, 29 Abr 2023 12:26:42 +0100</pubDate><image><url>http://bibliotecas.cm-porto.pt/hipres/cmp/logoBibliotecas.jpg</url><title>Cat\\xe1logo Bibliotecas Municipais do Porto</title><link>http://bibliotecas.cm-porto.pt/</link><width>20</width><height>10</height></image><language>pt</language><ttl>60</ttl><item><pubDate>Qui, 14 Out 2010 01:22:00 +0100</pubDate><title>Blue light \\'til down [ Registo sonoro] / Cassandra Wilson</title><author>Wilson, Cassandra; Ross, Brandon, interp.; Burnham, Charlie, interp.; Davis, Kenny, interp.</author><description>&lt;table&gt;\\r\\n\\t\\t\\t\\t\\t\\t\\t\\t&lt;tr&gt;&lt;td colspan=\"2\" width=\"100%\"&gt;&lt;b&gt;T\\xedtulo: &lt;/b&gt;Blue light \\'til down [ Registo sonoro] / Cassandra Wilson&lt;br/&gt;&lt;b&gt;Autor(es): &lt;/b&gt;Wilson, Cassandra; Ross, Brandon, interp.; Burnham, Charlie, interp.; Davis, Kenny, interp.&lt;/td&gt;&lt;/tr&gt;\\r\\n\\t\\t\\t\\t\\t\\t\\t&lt;/table&gt;</description><category/><link>http://bibliotecas.cm-porto.pt/ipac20/ipac.jsp?session=&amp;profile=bmp&amp;menu=search&amp;aspect=subtab11&amp;uri=full=3100024~!119917~!0</link></item><item><pubDate>Qui, 14 Out 2010 02:16:00 +0100</pubDate><title>Grunge : the movie / Adam Warren ; cores Joe Rosas ; legendagem Tomoko Saito</title><author>Warren, Adam; Rosas, Joe, il.; Saito, Tomoko, tec. graf.</author><description>&lt;table&gt;\\r\\n\\t\\t\\t\\t\\t\\t\\t\\t&lt;tr&gt;&lt;td align=\"top\"&gt;&lt;/td&gt;\\r\\n\\t\\t\\t\\t\\t\\t\\t\\t\\t\\t&lt;td width=\"100%\"&gt;&lt;b&gt;T\\xedtulo: &lt;/b&gt;Grunge : the movie / Adam Warren ; cores Joe Rosas ; legendagem Tomoko Saito&lt;br/&gt;&lt;b&gt;Autor(es): &lt;/b&gt;Warren, Adam; Rosas, Joe, il.; Saito, Tomoko, tec. graf.&lt;/td&gt;&lt;/tr&gt;\\r\\n\\t\\t\\t\\t\\t\\t\\t&lt;/table&gt;</description><category/><link>http://bibliotecas.cm-porto.pt/ipac20/ipac.jsp?session=&amp;profile=bmp&amp;menu=search&amp;aspect=subtab11&amp;uri=full=3100024~!123921~!1</link></item><item><pubDate>Qui, 14 Out 2010 02:17:00 +0100</pubDate><title>WildC.A.T.s trilogy : \"way of the Coda\" / des. Jae Lee ; est\\xf3ria Brandon Choi, Dafydd Wyn ; cores Joe Chiodo ; legendagem Mike Heisler, Bill Oakley</title><author>Lee, Jae; Choi, Brandon, co-autor; Wyn, Dafydd, co-autor; Chiodo, Joe, il.; Heisler, Mike, tec. graf.; Oakley, Bill, 1964-2004, tec. graf.</author><description>&lt;table&gt;\\r\\n\\t\\t\\t\\t\\t\\t\\t\\t&lt;tr&gt;&lt;td align=\"top\"&gt;&lt;/td&gt;\\r\\n\\t\\t\\t\\t\\t\\t\\t\\t\\t\\t&lt;td width=\"100%\"&gt;&lt;b&gt;T\\xedtulo: &lt;/b&gt;WildC.A.T.s trilogy : \"way of the Coda\" / des. Jae Lee ; est\\xf3ria Brandon Choi, Dafydd Wyn ; cores Joe Chiodo ; legendagem Mike Heisler, Bill Oakley&lt;br/&gt;&lt;b&gt;Autor(es): &lt;/b&gt;Lee, Jae; Choi, Brandon, co-autor; Wyn, Dafydd, co-autor; Chiodo, Joe, il.; Heisler, Mike, tec. graf.; Oakley, Bill, 1964-2004, tec. graf.&lt;/td&gt;&lt;/tr&gt;\\r\\n\\t\\t\\t\\t\\t\\t\\t&lt;/table&gt;</description><category/><link>http://bibliotecas.cm-porto.pt/ipac20/ipac.jsp?session=&amp;profile=bmp&amp;menu=search&amp;aspect=subtab11&amp;uri=full=3100024~!123935~!2</link></item><item><pubDate>Qui, 14 Out 2010 02:17:00 +0100</pubDate><title>WildC.A.T.s/X-Men / est\\xf3rias Scott Lobdell, James Robinson, Warren Ellis ; il Travis Charest,... [et al.]</title><author>Lobdell, Scott 1960-, co-autor; Robinson, James, co-autor; Ellis, Warren, 1968-, co-autor; Charest, Travis, il.; Lee, Jim, il.; Hughes, Adam, il.; Broome, Mat, il.</author><description>&lt;table&gt;\\r\\n\\t\\t\\t\\t\\t\\t\\t\\t&lt;tr&gt;&lt;td colspan=\"2\" width=\"100%\"&gt;&lt;b&gt;T\\xedtulo: &lt;/b&gt;WildC.A.T.s/X-Men / est\\xf3rias Scott Lobdell, James Robinson, Warren Ellis ; il Travis Charest,... [et al.]&lt;br/&gt;&lt;b&gt;Autor(es): &lt;/b&gt;Lobdell, Scott 1960-, co-autor; Robinson, James, co-autor; Ellis, Warren, 1968-, co-autor; Charest, Travis, il.; Lee, Jim, il.; Hughes, Adam, il.; Broome, Mat, il.&lt;/td&gt;&lt;/tr&gt;\\r\\n\\t\\t\\t\\t\\t\\t\\t&lt;/table&gt;</description><category/><link>http://bibliotecas.cm-porto.pt/ipac20/ipac.jsp?session=&amp;profile=bmp&amp;menu=search&amp;aspect=subtab11&amp;uri=full=3100024~!123984~!3</link></item><item><pubDate>Qui, 14 Out 2010 15:35:00 +0100</pubDate><title>Michael Jackson [ Registo v\\xeddeo] : o passageiro da lua / realiza\\xe7\\xe3o Jarry Kramer, Colin Chilves ; argumento David Newman ; m\\xfasica Bruce Broughton</title><author>Kramer, Jarry; Chilves, Colin, co-autor; Lennon, Sean, actor; Parker, Kellie, actor; Adams, Brandon Quintin, actor</author><description>&lt;table&gt;\\r\\n\\t\\t\\t\\t\\t\\t\\t\\t&lt;tr&gt;&lt;td colspan=\"2\" width=\"100%\"&gt;&lt;b&gt;T\\xedtulo: &lt;/b&gt;Michael Jackson [ Registo v\\xeddeo] : o passageiro da lua / realiza\\xe7\\xe3o Jarry Kramer, Colin Chilves ; argumento David Newman ; m\\xfasica Bruce Broughton&lt;br/&gt;&lt;b&gt;Autor(es): &lt;/b&gt;Kramer, Jarry; Chilves, Colin, co-autor; Lennon, Sean, actor; Parker, Kellie, actor; Adams, Brandon Quintin, actor&lt;br/&gt;&lt;b&gt;Assunto(s): &lt;/b&gt;M\\xfasica -- DVD-v\\xeddeo&lt;/td&gt;&lt;/tr&gt;\\r\\n\\t\\t\\t\\t\\t\\t\\t&lt;/table&gt;</description><category>M\\xfasica -- DVD-v\\xeddeo</category><link>http://bibliotecas.cm-porto.pt/ipac20/ipac.jsp?session=&amp;profile=bmp&amp;menu=search&amp;aspect=subtab11&amp;uri=full=3100024~!142533~!4</link></item><item><pubDate>Qui, 14 Out 2010 15:44:00 +0100</pubDate><title>Day &amp; age [ Registo sonoro] / The Killers</title><author>The Killers; Flowers, Brandon, interp.; Keuning, Dave, 1976-, interp.; Vannucci, Ronnie, interp.; Stoermer, Mark 1977-, interp.</author><description>&lt;table&gt;\\r\\n\\t\\t\\t\\t\\t\\t\\t\\t&lt;tr&gt;&lt;td colspan=\"2\" width=\"100%\"&gt;&lt;b&gt;T\\xedtulo: &lt;/b&gt;Day &amp; age [ Registo sonoro] / The Killers&lt;br/&gt;&lt;b&gt;Autor(es): &lt;/b&gt;The Killers; Flowers, Brandon, interp.; Keuning, Dave, 1976-, interp.; Vannucci, Ronnie, interp.; Stoermer, Mark 1977-, interp.&lt;/td&gt;&lt;/tr&gt;\\r\\n\\t\\t\\t\\t\\t\\t\\t&lt;/table&gt;</description><category/><link>http://bibliotecas.cm-porto.pt/ipac20/ipac.jsp?session=&amp;profile=bmp&amp;menu=search&amp;aspect=subtab11&amp;uri=full=3100024~!143648~!5</link></item><item><pubDate>S\\xe1b, 16 Out 2010 14:18:00 +0100</pubDate><title>Management, quality and economics in housing and other building sectors : research and practice innovative papers and late papers / European Symposium on Management, Quality and Economics... ; [ed. lit.] Artur Bezelga, Peter S. Brandon</title><author>European Symposium on Management, Quality and Economics in Housing and other Building Sectors, -- [Lisboa], -- 1991; Bezelga, Artur, ed. lit.; Brandon, Peter S., ed. lit.</author><description>&lt;table&gt;\\r\\n\\t\\t\\t\\t\\t\\t\\t\\t&lt;tr&gt;&lt;td colspan=\"2\" width=\"100%\"&gt;&lt;b&gt;T\\xedtulo: &lt;/b&gt;Management, quality and economics in housing and other building sectors : research and practice innovative papers and late papers / European Symposium on Management, Quality and Economics... ; [ed. lit.] Artur Bezelga, Peter S. Brandon&lt;br/&gt;&lt;b&gt;Autor(es): &lt;/b&gt;European Symposium on Management, Quality and Economics in Housing and other Building Sectors, -- [Lisboa], -- 1991; Bezelga, Artur, ed. lit.; Brandon, Peter S., ed. lit.&lt;/td&gt;&lt;/tr&gt;\\r\\n\\t\\t\\t\\t\\t\\t\\t&lt;/table&gt;</description><category/><link>http://bibliotecas.cm-porto.pt/ipac20/ipac.jsp?session=&amp;profile=bmp&amp;menu=search&amp;aspect=subtab11&amp;uri=full=3100024~!190086~!6</link></item><item><pubDate>Sex, 11 Mar 2011 12:14:00 +0000</pubDate><title>Super Homem [ Registo v\\xeddeo] : o regresso / realiza\\xe7\\xe3o Bryan Singer ; argumento Michael Dougherty, Dan Harris ; dir. fotografia Newton Thomas Sigel</title><author>Singer, Bryan, 1965-; Dougherty, Michael, guionista; Harris, Dan, 1979-, guionista; Sigel, Newton Thomas, 1955-, fotogr.; Routh,  Brandon, actor</author><description>&lt;table&gt;\\r\\n\\t\\t\\t\\t\\t\\t\\t\\t&lt;tr&gt;&lt;td colspan=\"2\" width=\"100%\"&gt;&lt;b&gt;T\\xedtulo: &lt;/b&gt;Super Homem [ Registo v\\xeddeo] : o regresso / realiza\\xe7\\xe3o Bryan Singer ; argumento Michael Dougherty, Dan Harris ; dir. fotografia Newton Thomas Sigel&lt;br/&gt;&lt;b&gt;Autor(es): &lt;/b&gt;Singer, Bryan, 1965-; Dougherty, Michael, guionista; Harris, Dan, 1979-, guionista; Sigel, Newton Thomas, 1955-, fotogr.; Routh,  Brandon, actor&lt;br/&gt;&lt;b&gt;Assunto(s): &lt;/b&gt;Cinema -- DVD-V\\xeddeo; Ac\\xe7\\xe3o; Aventura; Fam\\xedlia&lt;/td&gt;&lt;/tr&gt;\\r\\n\\t\\t\\t\\t\\t\\t\\t&lt;/table&gt;</description><category>Cinema -- DVD-V\\xeddeo</category><category>Ac\\xe7\\xe3o</category><category>Aventura</category><category>Fam\\xedlia</category><link>http://bibliotecas.cm-porto.pt/ipac20/ipac.jsp?session=&amp;profile=bmp&amp;menu=search&amp;aspect=subtab11&amp;uri=full=3100024~!358366~!7</link></item><item><pubDate>Seg, 20 Mai 2013 15:00:00 +0100</pubDate><title>O  santu\\xe1rio das f\\xe1bulas / Brandon Mull ; trad. Leonor Bizarro Marques ; rev. Nuno Barros</title><author>Mull, Brandon, 1974-; Marques, Leonor Bizarro, trad.</author><description>&lt;table&gt;\\r\\n\\t\\t\\t\\t\\t\\t\\t\\t&lt;tr&gt;&lt;td colspan=\"2\" width=\"100%\"&gt;&lt;b&gt;T\\xedtulo: &lt;/b&gt;O  santu\\xe1rio das f\\xe1bulas / Brandon Mull ; trad. Leonor Bizarro Marques ; rev. Nuno Barros&lt;br/&gt;&lt;b&gt;Autor(es): &lt;/b&gt;Mull, Brandon, 1974-; Marques, Leonor Bizarro, trad.&lt;/td&gt;&lt;/tr&gt;\\r\\n\\t\\t\\t\\t\\t\\t\\t&lt;/table&gt;</description><category/><link>http://bibliotecas.cm-porto.pt/ipac20/ipac.jsp?session=&amp;profile=bmp&amp;menu=search&amp;aspect=subtab11&amp;uri=full=3100024~!483149~!8</link></item><item><pubDate>Qua, 13 Nov 2013 14:54:00 +0000</pubDate><title>A ascens\\xe3o da estrela da noite / Brandon Mull ; trad. Leonor Bizarro Marques</title><author>Mull, Brandon, 1974-</author><description>&lt;table&gt;\\r\\n\\t\\t\\t\\t\\t\\t\\t\\t&lt;tr&gt;&lt;td colspan=\"2\" width=\"100%\"&gt;&lt;b&gt;T\\xedtulo: &lt;/b&gt;A ascens\\xe3o da estrela da noite / Brandon Mull ; trad. Leonor Bizarro Marques&lt;br/&gt;&lt;b&gt;Autor(es): &lt;/b&gt;Mull, Brandon, 1974-&lt;/td&gt;&lt;/tr&gt;\\r\\n\\t\\t\\t\\t\\t\\t\\t&lt;/table&gt;</description><category/><link>http://bibliotecas.cm-porto.pt/ipac20/ipac.jsp?session=&amp;profile=bmp&amp;menu=search&amp;aspect=subtab11&amp;uri=full=3100024~!502452~!9</link></item><item><pubDate>Ter, 25 Fev 2014 22:12:00 +0000</pubDate><title>Livros condensados / [ed. lit.] Selec\\xe7\\xf5es do Reader\\'s Digest. O olhar de uma crian\\xe7a / Richard North Patterson. Esa\\xfa / Philip Kerr. Finjam que n\\xe3o a v\\xeaem / Mary Higgins Clark. O glut\\xe3o / Bernard Clavel Tsunami! / Richard Martin stern. O presente de asinus / Thomas M. Coffey. Daddy / loup Durand. Um mergulho na escorid\\xe3o / Joyce Stranger</title><author>Patterson, Richard North, co-autor; Kerr, Philip, 1956-2018, co-autor; Clark, Mary Higgins, 1927-2020, co-autor; Clavel, Bernard, 1923-2010, co-autor; Stern, Richard Martin 1915-2001, co-autor; Coffey, Thomas M., co-autor; Durand, Loup, co-autor; Stranger, Joyce, co-autor; Selec\\xe7\\xf5es do Reader\\'s Digest, ed. lit.</author><description>&lt;table&gt;\\r\\n\\t\\t\\t\\t\\t\\t\\t\\t&lt;tr&gt;&lt;td colspan=\"2\" width=\"100%\"&gt;&lt;b&gt;T\\xedtulo: &lt;/b&gt;Livros condensados / [ed. lit.] Selec\\xe7\\xf5es do Reader\\'s Digest. O olhar de uma crian\\xe7a / Richard North Patterson. Esa\\xfa / Philip Kerr. Finjam que n\\xe3o a v\\xeaem / Mary Higgins Clark. O glut\\xe3o / Bernard Clavel Tsunami! / Richard Martin stern. O presente de asinus / Thomas M. Coffey. Daddy / loup Durand. Um mergulho na escorid\\xe3o / Joyce Stranger&lt;br/&gt;&lt;b&gt;Autor(es): &lt;/b&gt;Patterson, Richard North, co-autor; Kerr, Philip, 1956-2018, co-autor; Clark, Mary Higgins, 1927-2020, co-autor; Clavel, Bernard, 1923-2010, co-autor; Stern, Richard Martin 1915-2001, co-autor; Coffey, Thomas M., co-autor; Durand, Loup, co-autor; Stranger, Joyce, co-autor; Selec\\xe7\\xf5es do Reader\\'s Digest, ed. lit.&lt;/td&gt;&lt;/tr&gt;\\r\\n\\t\\t\\t\\t\\t\\t\\t&lt;/table&gt;</description><category/><link>http://bibliotecas.cm-porto.pt/ipac20/ipac.jsp?session=&amp;profile=bmp&amp;menu=search&amp;aspect=subtab11&amp;uri=full=3100024~!520702~!10</link></item><item><pubDate>Ter, 20 Mai 2014 18:05:00 +0100</pubDate><title>Make yourself [ Registo sonoro ] / Incubus</title><author>Incubus</author><description>&lt;table&gt;\\r\\n\\t\\t\\t\\t\\t\\t\\t\\t&lt;tr&gt;&lt;td colspan=\"2\" width=\"100%\"&gt;&lt;b&gt;T\\xedtulo: &lt;/b&gt;Make yourself [ Registo sonoro ] / Incubus&lt;br/&gt;&lt;b&gt;Autor(es): &lt;/b&gt;Incubus&lt;/td&gt;&lt;/tr&gt;\\r\\n\\t\\t\\t\\t\\t\\t\\t&lt;/table&gt;</description><category/><link>http://bibliotecas.cm-porto.pt/ipac20/ipac.jsp?session=&amp;profile=bmp&amp;menu=search&amp;aspect=subtab11&amp;uri=full=3100024~!537426~!11</link></item><item><pubDate>Qua, 07 Jan 2015 10:51:00 +0000</pubDate><title>Aquele estranho momento [ Registo v\\xeddeo] / realiza\\xe7\\xe3o, argumento Tom Gormican ; dir. fotografia Brandon Trost ; m\\xfasica David Torn</title><author>Gormican, Tom; Trost, Brandon, fotogr.; Efron, Zac, actor; Teller, Miles, actor; Jordan, Michael B., actor</author><description>&lt;table&gt;\\r\\n\\t\\t\\t\\t\\t\\t\\t\\t&lt;tr&gt;&lt;td colspan=\"2\" width=\"100%\"&gt;&lt;b&gt;T\\xedtulo: &lt;/b&gt;Aquele estranho momento [ Registo v\\xeddeo] / realiza\\xe7\\xe3o, argumento Tom Gormican ; dir. fotografia Brandon Trost ; m\\xfasica David Torn&lt;br/&gt;&lt;b&gt;Autor(es): &lt;/b&gt;Gormican, Tom; Trost, Brandon, fotogr.; Efron, Zac, actor; Teller, Miles, actor; Jordan, Michael B., actor&lt;br/&gt;&lt;b&gt;Assunto(s): &lt;/b&gt;Cinema -- DVD-V\\xeddeo; Com\\xe9dia; Romance&lt;/td&gt;&lt;/tr&gt;\\r\\n\\t\\t\\t\\t\\t\\t\\t&lt;/table&gt;</description><category>Cinema -- DVD-V\\xeddeo</category><category>Com\\xe9dia</category><category>Romance</category><link>http://bibliotecas.cm-porto.pt/ipac20/ipac.jsp?session=&amp;profile=bmp&amp;menu=search&amp;aspect=subtab11&amp;uri=full=3100024~!559962~!12</link></item><item><pubDate>Ter, 10 Nov 2015 16:47:00 +0000</pubDate><title>Vingadores / Brian Michael Bendis ; il. Bryan Hitch ; trad. Jos\\xe9 de Freitas</title><author>Bendis Brian Michael; Hitch Bryan, il.; Peterson Brandon, il.; Pacheco, Carlos, il.; Freitas, Jos\\xe9 de, trad.</author><description>&lt;table&gt;\\r\\n\\t\\t\\t\\t\\t\\t\\t\\t&lt;tr&gt;&lt;td colspan=\"2\" width=\"100%\"&gt;&lt;b&gt;T\\xedtulo: &lt;/b&gt;Vingadores / Brian Michael Bendis ; il. Bryan Hitch ; trad. Jos\\xe9 de Freitas&lt;br/&gt;&lt;b&gt;Autor(es): &lt;/b&gt;Bendis Brian Michael; Hitch Bryan, il.; Peterson Brandon, il.; Pacheco, Carlos, il.; Freitas, Jos\\xe9 de, trad.&lt;/td&gt;&lt;/tr&gt;\\r\\n\\t\\t\\t\\t\\t\\t\\t&lt;/table&gt;</description><category/><link>http://bibliotecas.cm-porto.pt/ipac20/ipac.jsp?session=&amp;profile=bmp&amp;menu=search&amp;aspect=subtab11&amp;uri=full=3100024~!590243~!13</link></item><item><pubDate>Ter, 05 Abr 2016 16:23:00 +0100</pubDate><title>Abra\\xe7os do c\\xe9u : conforto e esperan\\xe7a do outro lado da vida / Carla Wills-Brandon ; trad. Lu\\xeds Santos ; rev. Sara Lutas</title><author>Brandon, Carla Wills; Santos, Lu\\xeds, trad.</author><description>&lt;table&gt;\\r\\n\\t\\t\\t\\t\\t\\t\\t\\t&lt;tr&gt;&lt;td colspan=\"2\" width=\"100%\"&gt;&lt;b&gt;T\\xedtulo: &lt;/b&gt;Abra\\xe7os do c\\xe9u : conforto e esperan\\xe7a do outro lado da vida / Carla Wills-Brandon ; trad. Lu\\xeds Santos ; rev. Sara Lutas&lt;br/&gt;&lt;b&gt;Autor(es): &lt;/b&gt;Brandon, Carla Wills; Santos, Lu\\xeds, trad.&lt;/td&gt;&lt;/tr&gt;\\r\\n\\t\\t\\t\\t\\t\\t\\t&lt;/table&gt;</description><category/><link>http://bibliotecas.cm-porto.pt/ipac20/ipac.jsp?session=&amp;profile=bmp&amp;menu=search&amp;aspect=subtab11&amp;uri=full=3100024~!604584~!14</link></item><item><pubDate>Ter, 24 Jan 2017 17:43:00 +0000</pubDate><title>M\\xe1 vizinhan\\xe7a [ Registo v\\xeddeo] / realiza\\xe7\\xe3o Nicholas Stoller ; argumento Andrew Jay Cohen, Brendan O\\'Brien ; dir. fotografia Brandon Trost</title><author>Stoller, Nicholas, 1976-; Cohen, Andrew Jay, guionista; O\\'Brien Brendan, guionista; Trost, Brandon, fotogr.; Rogen, Seth, actor; Efron, Zac, actor; Byrne, Rose, actor</author><description>&lt;table&gt;\\r\\n\\t\\t\\t\\t\\t\\t\\t\\t&lt;tr&gt;&lt;td colspan=\"2\" width=\"100%\"&gt;&lt;b&gt;T\\xedtulo: &lt;/b&gt;M\\xe1 vizinhan\\xe7a [ Registo v\\xeddeo] / realiza\\xe7\\xe3o Nicholas Stoller ; argumento Andrew Jay Cohen, Brendan O\\'Brien ; dir. fotografia Brandon Trost&lt;br/&gt;&lt;b&gt;Autor(es): &lt;/b&gt;Stoller, Nicholas, 1976-; Cohen, Andrew Jay, guionista; O\\'Brien Brendan, guionista; Trost, Brandon, fotogr.; Rogen, Seth, actor; Efron, Zac, actor; Byrne, Rose, actor&lt;br/&gt;&lt;b&gt;Assunto(s): &lt;/b&gt;Cinema -- DVD-V\\xeddeo; Com\\xe9dia&lt;/td&gt;&lt;/tr&gt;\\r\\n\\t\\t\\t\\t\\t\\t\\t&lt;/table&gt;</description><category>Cinema -- DVD-V\\xeddeo</category><category>Com\\xe9dia</category><link>http://bibliotecas.cm-porto.pt/ipac20/ipac.jsp?session=&amp;profile=bmp&amp;menu=search&amp;aspect=subtab11&amp;uri=full=3100024~!632771~!15</link></item><item><pubDate>Ter, 24 Jan 2017 17:59:00 +0000</pubDate><title>M\\xe1 vizinhan\\xe7a 2 [ Registo v\\xeddeo] / realiza\\xe7\\xe3o Nicholas Stoller ; argumento Andrew Jay Cohen...[et al.] ; dir. fotografia Brandon Trost</title><author>Stoller, Nicholas, 1976-; Cohen, Andrew Jay, guionista; O\\'Brien Brendan, guionista; Trost, Brandon, fotogr.; Rogen, Seth, actor; Efron, Zac, actor; Byrne, Rose, actor</author><description>&lt;table&gt;\\r\\n\\t\\t\\t\\t\\t\\t\\t\\t&lt;tr&gt;&lt;td colspan=\"2\" width=\"100%\"&gt;&lt;b&gt;T\\xedtulo: &lt;/b&gt;M\\xe1 vizinhan\\xe7a 2 [ Registo v\\xeddeo] / realiza\\xe7\\xe3o Nicholas Stoller ; argumento Andrew Jay Cohen...[et al.] ; dir. fotografia Brandon Trost&lt;br/&gt;&lt;b&gt;Autor(es): &lt;/b&gt;Stoller, Nicholas, 1976-; Cohen, Andrew Jay, guionista; O\\'Brien Brendan, guionista; Trost, Brandon, fotogr.; Rogen, Seth, actor; Efron, Zac, actor; Byrne, Rose, actor&lt;br/&gt;&lt;b&gt;Assunto(s): &lt;/b&gt;Cinema -- DVD-V\\xeddeo; Com\\xe9dia&lt;/td&gt;&lt;/tr&gt;\\r\\n\\t\\t\\t\\t\\t\\t\\t&lt;/table&gt;</description><category>Cinema -- DVD-V\\xeddeo</category><category>Com\\xe9dia</category><link>http://bibliotecas.cm-porto.pt/ipac20/ipac.jsp?session=&amp;profile=bmp&amp;menu=search&amp;aspect=subtab11&amp;uri=full=3100024~!632776~!16</link></item><item><pubDate>Qua, 25 Jan 2017 17:05:00 +0000</pubDate><title>Duplo confronto [ Registo v\\xeddeo] / realiza\\xe7\\xe3o Max Adams ; argumento Max Adams, Paul V. Seetachitt ; dir. fotografia Brandon Cox </title><author>Adams, Max; Seetachitt , Paul V., guionista; Cox, Brandon, fotogr.; Willis, Bruce, 1955-, actor; Gosselaar, Mark-Paul, actor; Forlani, Claire, actor</author><description>&lt;table&gt;\\r\\n\\t\\t\\t\\t\\t\\t\\t\\t&lt;tr&gt;&lt;td colspan=\"2\" width=\"100%\"&gt;&lt;b&gt;T\\xedtulo: &lt;/b&gt;Duplo confronto [ Registo v\\xeddeo] / realiza\\xe7\\xe3o Max Adams ; argumento Max Adams, Paul V. Seetachitt ; dir. fotografia Brandon Cox &lt;br/&gt;&lt;b&gt;Autor(es): &lt;/b&gt;Adams, Max; Seetachitt , Paul V., guionista; Cox, Brandon, fotogr.; Willis, Bruce, 1955-, actor; Gosselaar, Mark-Paul, actor; Forlani, Claire, actor&lt;br/&gt;&lt;b&gt;Assunto(s): &lt;/b&gt;Cinema -- DVD-V\\xeddeo; A\\xe7\\xe3o; Com\\xe9dia; Crime&lt;/td&gt;&lt;/tr&gt;\\r\\n\\t\\t\\t\\t\\t\\t\\t&lt;/table&gt;</description><category>Cinema -- DVD-V\\xeddeo</category><category>A\\xe7\\xe3o</category><category>Com\\xe9dia</category><category>Crime</category><link>http://bibliotecas.cm-porto.pt/ipac20/ipac.jsp?session=&amp;profile=bmp&amp;menu=search&amp;aspect=subtab11&amp;uri=full=3100024~!632949~!17</link></item><item><pubDate>Sex, 28 Abr 2017 12:56:00 +0100</pubDate><title>O imp\\xe9rio final / Brandon Sanderson ; trad. Jorge Candeias ; rev. Sa\\xedda de Emerg\\xeancia</title><author>Sanderson, Brandon 1975-; Candeias, Jorge, 1966-, trad.</author><description>&lt;table&gt;\\r\\n\\t\\t\\t\\t\\t\\t\\t\\t&lt;tr&gt;&lt;td colspan=\"2\" width=\"100%\"&gt;&lt;b&gt;T\\xedtulo: &lt;/b&gt;O imp\\xe9rio final / Brandon Sanderson ; trad. Jorge Candeias ; rev. Sa\\xedda de Emerg\\xeancia&lt;br/&gt;&lt;b&gt;Autor(es): &lt;/b&gt;Sanderson, Brandon 1975-; Candeias, Jorge, 1966-, trad.&lt;/td&gt;&lt;/tr&gt;\\r\\n\\t\\t\\t\\t\\t\\t\\t&lt;/table&gt;</description><category/><link>http://bibliotecas.cm-porto.pt/ipac20/ipac.jsp?session=&amp;profile=bmp&amp;menu=search&amp;aspect=subtab11&amp;uri=full=3100024~!640306~!18</link></item><item><pubDate>Sex, 27 Abr 2018 15:41:00 +0100</pubDate><title>O po\\xe7o da ascens\\xe3o / Brandon Sanderson ; trad. Jorge Candeias ; rev. Sa\\xedda de Emerg\\xeancia</title><author>Sanderson, Brandon 1975-; Candeias, Jorge, 1966-, trad.</author><description>&lt;table&gt;\\r\\n\\t\\t\\t\\t\\t\\t\\t\\t&lt;tr&gt;&lt;td colspan=\"2\" width=\"100%\"&gt;&lt;b&gt;T\\xedtulo: &lt;/b&gt;O po\\xe7o da ascens\\xe3o / Brandon Sanderson ; trad. Jorge Candeias ; rev. Sa\\xedda de Emerg\\xeancia&lt;br/&gt;&lt;b&gt;Autor(es): &lt;/b&gt;Sanderson, Brandon 1975-; Candeias, Jorge, 1966-, trad.&lt;/td&gt;&lt;/tr&gt;\\r\\n\\t\\t\\t\\t\\t\\t\\t&lt;/table&gt;</description><category/><link>http://bibliotecas.cm-porto.pt/ipac20/ipac.jsp?session=&amp;profile=bmp&amp;menu=search&amp;aspect=subtab11&amp;uri=full=3100024~!667445~!19</link></item></channel></rss>'"
      ]
     },
     "execution_count": 8,
     "metadata": {},
     "output_type": "execute_result"
    }
   ],
   "source": [
    "import urllib.request\n",
    "\n",
    "simple_url = \"http://bibliotecas.cm-porto.pt/ipac20/rss.jsp?menu=search&aspect=subtab11&npp=20&index=.GW&term=brandon\"\n",
    "porto = urllib.request.urlopen(\n",
    "    \"http://bibliotecas.cm-porto.pt/ipac20/rss.jsp?menu=search&aspect=subtab11&npp=20&index=.GW&term=brandon\"\n",
    ").read()\n",
    "\n",
    "porto"
   ]
  },
  {
   "cell_type": "code",
   "execution_count": 41,
   "metadata": {},
   "outputs": [],
   "source": [
    "import requests\n",
    "\n",
    "url = \"http://bibliotecas.cm-porto.pt/ipac20/rss.jsp\"\n",
    "\n",
    "num_items = \"npp=200\"\n",
    "profile = \"&profile=dev\"\n",
    "term=\"term=harry+potter\"\n",
    "ipp=\"ipp=20\"\n",
    "spp=\"spp=20\"\n",
    "menu=\"menu=search\"\n",
    "aspect=\"aspect=subtab15\"\n",
    "index=\"index=.GW\"\n",
    "extras=\"ri=&term=&oper=AND&x=0&y=0&index=.TW&term=&oper=AND&index=BAW&term=sanderson&oper=AND&index=.SW&term=&limitbox_1=&limitbox_2=&limitbox_3=&limitbox_4=&limitbox_5=&ultype=&uloper=%3D&ullimit=&ultype=&uloper=%3D&ullimit=&sort=\"\n",
    "\n",
    "url = f\"{url}?{num_items}&{profile}&{term}&{ipp}&{spp}&{menu}&{aspect}&{index}&extras\"\n",
    "\n"
   ]
  },
  {
   "cell_type": "code",
   "execution_count": 42,
   "metadata": {},
   "outputs": [
    {
     "data": {
      "text/plain": [
       "126"
      ]
     },
     "execution_count": 42,
     "metadata": {},
     "output_type": "execute_result"
    }
   ],
   "source": [
    "import feedparser\n",
    "\n",
    "feed = feedparser.parse(url)\n",
    "\n",
    "len(feed.entries)\n"
   ]
  },
  {
   "cell_type": "code",
   "execution_count": 44,
   "metadata": {},
   "outputs": [
    {
     "data": {
      "text/plain": [
       "{'published': 'Qua, 06 Out 2010 00:14:00 +0100',\n",
       " 'published_parsed': None,\n",
       " 'title': 'Harry Potter e a pedra filosofal / J. K. Rowling ; trad. Isabel Fraga ; rev. Isabel Nunes',\n",
       " 'title_detail': {'type': 'text/plain',\n",
       "  'language': None,\n",
       "  'base': 'http://bibliotecas.cm-porto.pt/ipac20/rss.jsp?npp=200&&profile=dev&term=harry+potter&ipp=20&spp=20&menu=search&aspect=subtab15&index=.GW&extras',\n",
       "  'value': 'Harry Potter e a pedra filosofal / J. K. Rowling ; trad. Isabel Fraga ; rev. Isabel Nunes'},\n",
       " 'authors': [{'name': 'Rowling, J. K., 1965-; Fraga, Isabel, 1950-, trad.'}],\n",
       " 'author': 'Rowling, J. K., 1965-; Fraga, Isabel, 1950-, trad.',\n",
       " 'author_detail': {'name': 'Rowling, J. K., 1965-; Fraga, Isabel, 1950-, trad.'},\n",
       " 'summary': '<table>\\n\\t\\t\\t\\t\\t\\t\\t\\t<tr><td colspan=\"2\" width=\"100%\"><b>Título: </b>Harry Potter e a pedra filosofal / J. K. Rowling ; trad. Isabel Fraga ; rev. Isabel Nunes<br /><b>Autor(es): </b>Rowling, J. K., 1965-; Fraga, Isabel, 1950-, trad.</td></tr>\\n\\t\\t\\t\\t\\t\\t\\t</table>',\n",
       " 'summary_detail': {'type': 'text/html',\n",
       "  'language': None,\n",
       "  'base': 'http://bibliotecas.cm-porto.pt/ipac20/rss.jsp?npp=200&&profile=dev&term=harry+potter&ipp=20&spp=20&menu=search&aspect=subtab15&index=.GW&extras',\n",
       "  'value': '<table>\\n\\t\\t\\t\\t\\t\\t\\t\\t<tr><td colspan=\"2\" width=\"100%\"><b>Título: </b>Harry Potter e a pedra filosofal / J. K. Rowling ; trad. Isabel Fraga ; rev. Isabel Nunes<br /><b>Autor(es): </b>Rowling, J. K., 1965-; Fraga, Isabel, 1950-, trad.</td></tr>\\n\\t\\t\\t\\t\\t\\t\\t</table>'},\n",
       " 'tags': [],\n",
       " 'links': [{'rel': 'alternate',\n",
       "   'type': 'text/html',\n",
       "   'href': 'http://bibliotecas.cm-porto.pt/ipac20/ipac.jsp?session=&profile=bmp&menu=search&aspect=subtab15&uri=full=3100024~!37229~!1'}],\n",
       " 'link': 'http://bibliotecas.cm-porto.pt/ipac20/ipac.jsp?session=&profile=bmp&menu=search&aspect=subtab15&uri=full=3100024~!37229~!1'}"
      ]
     },
     "execution_count": 44,
     "metadata": {},
     "output_type": "execute_result"
    }
   ],
   "source": [
    "feed.entries[1]"
   ]
  },
  {
   "cell_type": "code",
   "execution_count": null,
   "metadata": {},
   "outputs": [],
   "source": [
    "http://bibliotecas.cm-porto.pt/ipac20/ipac.jsp?session=&profile=bmp&menu=search&aspect=subtab15&uri=full=3100024~!37229~!1\n",
    "\n",
    "http://bibliotecas.cm-porto.pt/ipac20/regiso.jsp?session=1Y8276A13K593.1190943&profile=bmp&uri=full=3100024~!37229~!1&fullmarc=true&aspect=subtab15&menu=search&source=~!horizon&view=items&ri=1&staffonly=&&aspect=subtab15&menu=search&ri=1&marcxchange=true"
   ]
  }
 ],
 "metadata": {
  "kernelspec": {
   "display_name": "Python 3",
   "language": "python",
   "name": "python3"
  },
  "language_info": {
   "codemirror_mode": {
    "name": "ipython",
    "version": 3
   },
   "file_extension": ".py",
   "mimetype": "text/x-python",
   "name": "python",
   "nbconvert_exporter": "python",
   "pygments_lexer": "ipython3",
   "version": "3.11.1"
  },
  "orig_nbformat": 4
 },
 "nbformat": 4,
 "nbformat_minor": 2
}
