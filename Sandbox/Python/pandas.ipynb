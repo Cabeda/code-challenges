{
 "cells": [
  {
   "cell_type": "code",
   "execution_count": 1,
   "metadata": {},
   "outputs": [],
   "source": [
    "import pandas as pd"
   ]
  },
  {
   "cell_type": "code",
   "execution_count": 28,
   "metadata": {},
   "outputs": [],
   "source": [
    "df = pd.DataFrame({\n",
    "    'A': [1, 2, 3],\n",
    "    'B': [4, 5, 6],\n",
    "    'C': [7, 8, 9]\n",
    "})"
   ]
  },
  {
   "cell_type": "code",
   "execution_count": null,
   "metadata": {},
   "outputs": [
    {
     "data": {
      "text/html": [
       "<div>\n",
       "<style scoped>\n",
       "    .dataframe tbody tr th:only-of-type {\n",
       "        vertical-align: middle;\n",
       "    }\n",
       "\n",
       "    .dataframe tbody tr th {\n",
       "        vertical-align: top;\n",
       "    }\n",
       "\n",
       "    .dataframe thead th {\n",
       "        text-align: right;\n",
       "    }\n",
       "</style>\n",
       "<table border=\"1\" class=\"dataframe\">\n",
       "  <thead>\n",
       "    <tr style=\"text-align: right;\">\n",
       "      <th></th>\n",
       "      <th>C</th>\n",
       "    </tr>\n",
       "  </thead>\n",
       "  <tbody>\n",
       "    <tr>\n",
       "      <th>0</th>\n",
       "      <td>20</td>\n",
       "    </tr>\n",
       "    <tr>\n",
       "      <th>1</th>\n",
       "      <td>0</td>\n",
       "    </tr>\n",
       "    <tr>\n",
       "      <th>2</th>\n",
       "      <td>0</td>\n",
       "    </tr>\n",
       "  </tbody>\n",
       "</table>\n",
       "</div>"
      ],
      "text/plain": [
       "    C\n",
       "0  20\n",
       "1   0\n",
       "2   0"
      ]
     },
     "execution_count": 41,
     "metadata": {},
     "output_type": "execute_result"
    }
   ],
   "source": [
    "df.loc[0] # returns the first row\n",
    "df.loc[0, 'A'] # returns the first row, first column\n",
    "\n",
    "df.loc[:2]  # returns the first two rows\n",
    "\n",
    "df.loc[0:2, 'B']  # returns the first two rows, B column\n",
    "\n",
    "df.loc[1:, ['A', 'B']]  # returns the first two rows, A and B columns\n",
    "\n",
    "df.loc[df['A'] > 1]  # returns rows where A is greater than 1\n",
    "\n",
    "df.loc[df['A'] > 1, 'B']  # returns rows where A is greater than 1, B column\n",
    "\n",
    "df.loc[df['A'] > 2, ['B', 'C']]  # returns rows where A is greater than 2, B and C columns\n",
    "\n",
    "df.loc[df['A'] > 1, ['B', 'C']] = 0  # set values of B and C to 0 where A is greater than 1\n",
    "\n",
    "df.loc[0, 'A'] = 10  # set the value of A in the first row to 10\n",
    "\n",
    "df.loc[0] = 20  # set all values in the first row to 20\n",
    "\n",
    "df.iat[0, 0]  # returns the value in the first row, first column\n",
    "\n",
    "df.iloc[0]  # returns the first row\n",
    "\n",
    "df.iloc[0, 0]  # returns the first row, first column\n",
    "\n",
    "df.iloc[:2]  # returns the first two rows\n",
    "\n",
    "df.iloc[0:2, 1]  # returns the first two rows, second column\n",
    "\n",
    "df.iloc[1:, [0, 1]]  # returns the first two rows, first and second columns\n",
    "\n",
    "df.iloc[:, 1:3]  # returns all rows, second and third columns"
   ]
  },
  {
   "cell_type": "code",
   "execution_count": null,
   "metadata": {},
   "outputs": [],
   "source": []
  }
 ],
 "metadata": {
  "kernelspec": {
   "display_name": ".venv",
   "language": "python",
   "name": "python3"
  },
  "language_info": {
   "codemirror_mode": {
    "name": "ipython",
    "version": 3
   },
   "file_extension": ".py",
   "mimetype": "text/x-python",
   "name": "python",
   "nbconvert_exporter": "python",
   "pygments_lexer": "ipython3",
   "version": "3.12.7"
  }
 },
 "nbformat": 4,
 "nbformat_minor": 2
}
