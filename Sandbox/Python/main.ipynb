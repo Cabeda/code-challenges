{
 "cells": [
  {
   "cell_type": "code",
   "execution_count": 15,
   "metadata": {},
   "outputs": [
    {
     "name": "stdout",
     "output_type": "stream",
     "text": [
      "3\n",
      "[1, 2]\n",
      "[2]\n",
      "hallo world\n",
      "11\n"
     ]
    },
    {
     "data": {
      "text/plain": [
       "[1, 1, 3]"
      ]
     },
     "execution_count": 15,
     "metadata": {},
     "output_type": "execute_result"
    }
   ],
   "source": [
    "var = 3\n",
    "hello = \"hello world\"\n",
    "\n",
    "print(3)\n",
    "\n",
    "\n",
    "lists = [1, 2, 3]\n",
    "\n",
    "print(lists[:2])\n",
    "print(lists[1:2])\n",
    "\n",
    "print(hello.replace(\"e\", \"a\"))\n",
    "\n",
    "\n",
    "print(len(hello))\n",
    "\n",
    "lists.append(4)\n",
    "\n",
    "\n",
    "lists.insert(0,1)\n",
    "\n",
    "lists.pop()\n",
    "\n",
    "lists.remove(2)\n",
    "\n",
    "lists.sort()\n",
    "lists.sort(reverse=True)\n",
    "\n",
    "lists.reverse()\n",
    "\n",
    "lists"
   ]
  },
  {
   "cell_type": "code",
   "execution_count": 27,
   "metadata": {},
   "outputs": [
    {
     "name": "stdout",
     "output_type": "stream",
     "text": [
      "1\n",
      "2\n",
      "3\n",
      "4\n",
      "5\n",
      "6\n",
      "7\n",
      "8\n",
      "9\n",
      "10\n",
      "1\n",
      "2\n",
      "3\n",
      "4\n",
      "5\n",
      "6\n",
      "7\n",
      "8\n",
      "9\n",
      "10\n"
     ]
    },
    {
     "data": {
      "text/plain": [
       "[1, 4, 9, 16, 25, 36, 49, 64, 81, 100]"
      ]
     },
     "execution_count": 27,
     "metadata": {},
     "output_type": "execute_result"
    }
   ],
   "source": [
    "\n",
    "lists = list([1, 2, 3, 4, 5, 6, 7, 8, 9, 10])\n",
    "for i in lists:\n",
    "    print(i)\n",
    "\n",
    "\n",
    "for i in range(1, 11):\n",
    "    print(i)\n",
    "\n",
    "\n",
    "min(lists)\n",
    "max(lists)\n",
    "\n",
    "[val ** 2 for val in lists]"
   ]
  },
  {
   "cell_type": "code",
   "execution_count": 41,
   "metadata": {},
   "outputs": [
    {
     "data": {
      "text/plain": [
       "0"
      ]
     },
     "execution_count": 41,
     "metadata": {},
     "output_type": "execute_result"
    }
   ],
   "source": [
    "n = 15\n",
    "output = []\n",
    "\n",
    "# for i in range (1, n):\n",
    "#     if i % 3 == 0 and i % 5 == 0:\n",
    "#         output.append(\"FizzBuzz\")\n",
    "#     elif i % 3 == 0 or i % 5 == 0:\n",
    "#         output.append(\"Fizz\")\n",
    "#     else:\n",
    "#         output.append(i)\n",
    "# output\n",
    "\n",
    "# match n:\n",
    "#     case n % 3 == 0 and n % 5 == 0:\n",
    "#         output.append(\"FizzBuzz\")\n",
    "#     case n % 3 == 0:\n",
    "#         output.append(\"Fizz\")\n",
    "#     case n % 5 == 0:\n",
    "#         output.append(\"Buzz\")\n",
    "#     case _:\n",
    "#         output.append(n)\n"
   ]
  },
  {
   "cell_type": "code",
   "execution_count": 46,
   "metadata": {},
   "outputs": [
    {
     "data": {
      "text/plain": [
       "3"
      ]
     },
     "execution_count": 46,
     "metadata": {},
     "output_type": "execute_result"
    }
   ],
   "source": [
    "tup = (3,4)\n",
    "\n",
    "tup[0]\n"
   ]
  },
  {
   "cell_type": "code",
   "execution_count": 49,
   "metadata": {},
   "outputs": [
    {
     "data": {
      "text/plain": [
       "'BANANA'"
      ]
     },
     "execution_count": 49,
     "metadata": {},
     "output_type": "execute_result"
    }
   ],
   "source": [
    "\"POTATO\".lower()\n",
    "\n",
    "\"banana\".upper()"
   ]
  },
  {
   "cell_type": "code",
   "execution_count": 65,
   "metadata": {},
   "outputs": [
    {
     "name": "stdout",
     "output_type": "stream",
     "text": [
      "Person(name='Bob', supername='Super Bob', age=None)\n",
      "Person(name='Bob', supername='Super Bob', age=30)\n"
     ]
    },
    {
     "ename": "AttributeError",
     "evalue": "'Person' object has no attribute 'keys'",
     "output_type": "error",
     "traceback": [
      "\u001b[0;31m---------------------------------------------------------------------------\u001b[0m",
      "\u001b[0;31mAttributeError\u001b[0m                            Traceback (most recent call last)",
      "Cell \u001b[0;32mIn[65], line 21\u001b[0m\n\u001b[1;32m     16\u001b[0m person\u001b[39m.\u001b[39mage \u001b[39m=\u001b[39m \u001b[39m30\u001b[39m\n\u001b[1;32m     18\u001b[0m \u001b[39mprint\u001b[39m(person)\n\u001b[0;32m---> 21\u001b[0m \u001b[39mfor\u001b[39;00m item \u001b[39min\u001b[39;00m person\u001b[39m.\u001b[39;49mkeys():\n\u001b[1;32m     22\u001b[0m     \u001b[39mprint\u001b[39m(item)\n\u001b[1;32m     24\u001b[0m \u001b[39m\"\u001b[39m\u001b[39m\"\u001b[39m \u001b[39m+\u001b[39m \u001b[39m\"\u001b[39m\u001b[39m\"\u001b[39m\n",
      "\u001b[0;31mAttributeError\u001b[0m: 'Person' object has no attribute 'keys'"
     ]
    }
   ],
   "source": [
    "from dataclasses import dataclass\n",
    "from typing import Optional\n",
    "\n",
    "\n",
    "@dataclass\n",
    "class Person:\n",
    "    name: str\n",
    "    supername: str\n",
    "    age: Optional[int] = None\n",
    "\n",
    "\n",
    "person = Person(\"Bob\", \"Super Bob\")\n",
    "\n",
    "print(person)\n",
    "\n",
    "person.age = 30\n",
    "\n",
    "print(person)\n",
    "\n",
    "\n",
    "for item in person.keys():\n",
    "    print(item)\n",
    "\n",
    "\"\" + \"\""
   ]
  },
  {
   "cell_type": "code",
   "execution_count": 64,
   "metadata": {},
   "outputs": [
    {
     "data": {
      "text/plain": [
       "[1, 2, 2, 3, 5, 6]"
      ]
     },
     "execution_count": 64,
     "metadata": {},
     "output_type": "execute_result"
    }
   ],
   "source": [
    "\n",
    "nums1 = [1,2,3,0,0,0]\n",
    "m = 3\n",
    "nums2 =[2,5,6]\n",
    "n = 3\n",
    "\n",
    "def merge( nums1: list[int], m: int, nums2: list[int], n: int) -> None:\n",
    "    nums1 = nums1[:m]\n",
    "    nums2 = nums2[:n]\n",
    "\n",
    "    nums1.extend(nums2)\n",
    "    nums1.sort()\n",
    "    return nums1\n",
    "\n",
    "\n",
    "merge(nums1, m, nums2, n)"
   ]
  },
  {
   "cell_type": "code",
   "execution_count": 66,
   "metadata": {},
   "outputs": [
    {
     "name": "stdout",
     "output_type": "stream",
     "text": [
      "red\n"
     ]
    }
   ],
   "source": [
    "import enum \n",
    "\n",
    "class Color(enum.Enum):\n",
    "    RED = 1\n",
    "    GREEN = 2\n",
    "    BLUE = 3\n",
    "\n",
    "x = Color.RED\n",
    "\n",
    "match x:\n",
    "    case Color.RED:\n",
    "        print(\"red\")\n",
    "    case Color.GREEN:\n",
    "        print(\"green\")\n",
    "    case Color.BLUE:\n",
    "        print(\"blue\")\n",
    "    case _:\n",
    "        print(\"unknown\")"
   ]
  },
  {
   "cell_type": "code",
   "execution_count": null,
   "metadata": {},
   "outputs": [],
   "source": []
  }
 ],
 "metadata": {
  "kernelspec": {
   "display_name": "Python 3",
   "language": "python",
   "name": "python3"
  },
  "language_info": {
   "codemirror_mode": {
    "name": "ipython",
    "version": 3
   },
   "file_extension": ".py",
   "mimetype": "text/x-python",
   "name": "python",
   "nbconvert_exporter": "python",
   "pygments_lexer": "ipython3",
   "version": "3.11.1"
  },
  "orig_nbformat": 4,
  "vscode": {
   "interpreter": {
    "hash": "9e7d6f5d88143b2b142d149c3c38d5b601b16c0b878cb2bad6a70f3553dba864"
   }
  }
 },
 "nbformat": 4,
 "nbformat_minor": 2
}
