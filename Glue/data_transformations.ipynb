{
 "cells": [
  {
   "cell_type": "code",
   "execution_count": 6,
   "metadata": {
    "vscode": {
     "languageId": "python"
    }
   },
   "outputs": [
    {
     "name": "stdout",
     "output_type": "stream",
     "text": [
      "Welcome to the Glue Interactive Sessions Kernel\n",
      "For more information on available magic commands, please type %help in any new cell.\n",
      "\n",
      "Please view our Getting Started page to access the most up-to-date information on the Interactive Sessions kernel: https://docs.aws.amazon.com/glue/latest/dg/interactive-sessions.html\n",
      "Previous region: eu-central-1\n",
      "Setting new region to: eu-central-1\n",
      "Region is set to: eu-central-1\n",
      "Current iam_role is None\n",
      "iam_role has been set to arn:aws:iam::590184071999:role/aws-glue-full-admin-to-delete.\n",
      "The following configurations have been updated: {'--enable-glue-di-transforms': 'true'}\n"
     ]
    }
   ],
   "source": [
    "%region eu-central-1\n",
    "%iam_role arn:aws:iam::590184071999:role/aws-glue-full-admin-to-delete\n",
    "%%configure\n",
    "{\n",
    "   \"--enable-glue-di-transforms\": \"true\"\n",
    "}"
   ]
  },
  {
   "cell_type": "code",
   "execution_count": 1,
   "metadata": {
    "vscode": {
     "languageId": "python"
    }
   },
   "outputs": [
    {
     "name": "stdout",
     "output_type": "stream",
     "text": [
      "Trying to create a Glue session for the kernel.\n",
      "Session Type: etl\n",
      "Session ID: 86a87588-5be4-4075-826a-b7756a4260c9\n",
      "Applying the following default arguments:\n",
      "--glue_kernel_version 1.0.7\n",
      "--enable-glue-datacatalog true\n",
      "--enable-glue-di-transforms true\n",
      "Waiting for session 86a87588-5be4-4075-826a-b7756a4260c9 to get into ready status...\n",
      "Session 86a87588-5be4-4075-826a-b7756a4260c9 has been created.\n",
      "ValueError: Cannot run multiple SparkContexts at once; existing SparkContext(app=GlueReplApp, master=jes) created by __init__ at /tmp/1447952477473449584:514 \n"
     ]
    }
   ],
   "source": [
    "from pyspark.context import SparkContext\n",
    "        \n",
    "from awsgluedi.transforms import *\n",
    "sc = SparkContext()\n",
    "\n",
    "input_df = spark.createDataFrame(\n",
    "    [(5,), (0,), (-1,), (2,), (None,)],\n",
    "    [\"source_column\"],\n",
    ")\n",
    "\n",
    "try:\n",
    "    df_output = math_functions.IsEven.apply(\n",
    "        data_frame=input_df,\n",
    "        spark_context=sc,\n",
    "        source_column=\"source_column\",\n",
    "        target_column=\"target_column\",\n",
    "        value=None,\n",
    "        true_string=\"Even\",\n",
    "        false_string=\"Not even\",\n",
    "    )\n",
    "    df_output.show()   \n",
    "except:\n",
    "    print(\"Unexpected Error happened \")\n",
    "    raise"
   ]
  },
  {
   "cell_type": "code",
   "execution_count": null,
   "metadata": {
    "vscode": {
     "languageId": "python"
    }
   },
   "outputs": [],
   "source": []
  }
 ],
 "metadata": {
  "kernelspec": {
   "display_name": "Glue PySpark",
   "language": "python",
   "name": "glue_pyspark"
  },
  "language_info": {
   "codemirror_mode": {
    "name": "python",
    "version": 3
   },
   "file_extension": ".py",
   "mimetype": "text/x-python",
   "name": "Python_Glue_Session",
   "pygments_lexer": "python3"
  }
 },
 "nbformat": 4,
 "nbformat_minor": 2
}
