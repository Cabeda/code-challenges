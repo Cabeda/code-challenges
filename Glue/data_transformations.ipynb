{
 "cells": [
  {
   "cell_type": "code",
   "execution_count": null,
   "metadata": {
    "vscode": {
     "languageId": "python"
    }
   },
   "outputs": [],
   "source": [
    "%region eu-central-1\n",
    "%iam_role <role>\n",
    "%%configure\n",
    "{\n",
    "   \"--enable-glue-di-transforms\": \"true\"\n",
    "}"
   ]
  },
  {
   "cell_type": "code",
   "execution_count": null,
   "metadata": {
    "vscode": {
     "languageId": "python"
    }
   },
   "outputs": [],
   "source": [
    "from pyspark.context import SparkContext\n",
    "        \n",
    "from awsgluedi.transforms import *\n",
    "sc = SparkContext()\n",
    "\n",
    "input_df = spark.createDataFrame(\n",
    "    [(5,), (0,), (-1,), (2,), (None,)],\n",
    "    [\"source_column\"],\n",
    ")\n",
    "\n",
    "try:\n",
    "    df_output = math_functions.IsEven.apply(\n",
    "        data_frame=input_df,\n",
    "        spark_context=sc,\n",
    "        source_column=\"source_column\",\n",
    "        target_column=\"target_column\",\n",
    "        value=None,\n",
    "        true_string=\"Even\",\n",
    "        false_string=\"Not even\",\n",
    "    )\n",
    "    df_output.show()   \n",
    "except:\n",
    "    print(\"Unexpected Error happened \")\n",
    "    raise"
   ]
  },
  {
   "cell_type": "code",
   "execution_count": null,
   "metadata": {
    "vscode": {
     "languageId": "python"
    }
   },
   "outputs": [],
   "source": []
  }
 ],
 "metadata": {
  "kernelspec": {
   "display_name": "Glue PySpark",
   "language": "python",
   "name": "glue_pyspark"
  },
  "language_info": {
   "codemirror_mode": {
    "name": "python",
    "version": 3
   },
   "file_extension": ".py",
   "mimetype": "text/x-python",
   "name": "Python_Glue_Session",
   "pygments_lexer": "python3"
  }
 },
 "nbformat": 4,
 "nbformat_minor": 2
}
