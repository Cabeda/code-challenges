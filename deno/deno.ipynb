{
 "cells": [
  {
   "cell_type": "code",
   "execution_count": null,
   "metadata": {},
   "outputs": [],
   "source": [
    "// Run a fetch request to openweathermap.org to get the weather for a given city\n",
    "// Run with `ts-node fetch-weather.ts`\n",
    "// Requires an API key from openweathermap.org\n",
    "\n",
    "\n",
    "const jsonResponse = await fetch(\"https://api.github.com/users/denoland\");\n",
    "const jsonData = await jsonResponse.json();\n",
    "\n",
    "console.log(jsonData);\n"
   ]
  },
  {
   "cell_type": "code",
   "execution_count": null,
   "metadata": {},
   "outputs": [],
   "source": []
  }
 ],
 "metadata": {
  "kernelspec": {
   "display_name": "Deno",
   "language": "typescript",
   "name": "deno"
  },
  "language_info": {
   "file_extension": ".ts",
   "mimetype": "text/x.typescript",
   "name": "typescript",
   "nb_converter": "script",
   "pygments_lexer": "typescript",
   "version": "5.4.3"
  }
 },
 "nbformat": 4,
 "nbformat_minor": 2
}
