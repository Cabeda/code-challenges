{
 "cells": [
  {
   "cell_type": "code",
   "execution_count": 1,
   "metadata": {},
   "outputs": [
    {
     "name": "stdout",
     "output_type": "stream",
     "text": [
      "{\n",
      "  login: \"denoland\",\n",
      "  id: 42048915,\n",
      "  node_id: \"MDEyOk9yZ2FuaXphdGlvbjQyMDQ4OTE1\",\n",
      "  avatar_url: \"https://avatars.githubusercontent.com/u/42048915?v=4\",\n",
      "  gravatar_id: \"\",\n",
      "  url: \"https://api.github.com/users/denoland\",\n",
      "  html_url: \"https://github.com/denoland\",\n",
      "  followers_url: \"https://api.github.com/users/denoland/followers\",\n",
      "  following_url: \"https://api.github.com/users/denoland/following{/other_user}\",\n",
      "  gists_url: \"https://api.github.com/users/denoland/gists{/gist_id}\",\n",
      "  starred_url: \"https://api.github.com/users/denoland/starred{/owner}{/repo}\",\n",
      "  subscriptions_url: \"https://api.github.com/users/denoland/subscriptions\",\n",
      "  organizations_url: \"https://api.github.com/users/denoland/orgs\",\n",
      "  repos_url: \"https://api.github.com/users/denoland/repos\",\n",
      "  events_url: \"https://api.github.com/users/denoland/events{/privacy}\",\n",
      "  received_events_url: \"https://api.github.com/users/denoland/received_events\",\n",
      "  type: \"Organization\",\n",
      "  site_admin: false,\n",
      "  name: \"Deno\",\n",
      "  company: null,\n",
      "  blog: \"https://deno.land\",\n",
      "  location: null,\n",
      "  email: \"support@deno.com\",\n",
      "  hireable: null,\n",
      "  bio: null,\n",
      "  twitter_username: \"deno_land\",\n",
      "  public_repos: 161,\n",
      "  public_gists: 0,\n",
      "  followers: 3986,\n",
      "  following: 0,\n",
      "  created_at: \"2018-08-02T22:47:41Z\",\n",
      "  updated_at: \"2024-04-18T16:46:54Z\"\n",
      "}\n"
     ]
    }
   ],
   "source": [
    "// Run a fetch request to openweathermap.org to get the weather for a given city\n",
    "// Run with `ts-node fetch-weather.ts`\n",
    "// Requires an API key from openweathermap.org\n",
    "\n",
    "\n",
    "const jsonResponse = await fetch(\"https://api.github.com/users/denoland\");\n",
    "const jsonData = await jsonResponse.json();\n",
    "\n",
    "console.log(jsonData);\n"
   ]
  },
  {
   "cell_type": "code",
   "execution_count": null,
   "metadata": {},
   "outputs": [],
   "source": []
  }
 ],
 "metadata": {
  "kernelspec": {
   "display_name": "Deno",
   "language": "typescript",
   "name": "deno"
  },
  "language_info": {
   "file_extension": ".ts",
   "mimetype": "text/x.typescript",
   "name": "typescript",
   "nb_converter": "script",
   "pygments_lexer": "typescript",
   "version": "5.4.3"
  }
 },
 "nbformat": 4,
 "nbformat_minor": 2
}
